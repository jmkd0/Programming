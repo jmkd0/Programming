{
 "cells": [
  {
   "cell_type": "code",
   "execution_count": 31,
   "metadata": {},
   "outputs": [],
   "source": [
    "import numpy as np\n",
    "import matplotlib.pyplot as plt\n",
    "class SVM_1:\n",
    "    def __init__(self, learning_rate=0.001, _lambda=0.01, nb_epoch=1000):\n",
    "        self.learning_rate = learning_rate\n",
    "        self._lambda = _lambda\n",
    "        self.nb_epoch = nb_epoch\n",
    "        self.W = None\n",
    "        self.b = None\n",
    "    def fit(self, X, y):\n",
    "        _y = np.where(y <= 0, -1, 1)\n",
    "        nb_rows, nb_feature = X.shape\n",
    "        #Gradiant descent\n",
    "        self.W = np.zeros(nb_feature)\n",
    "        self.b = 0\n",
    "\n",
    "        for _ in range(self.nb_epoch):\n",
    "            for i in range(nb_rows):\n",
    "                if _y[i]*(np.dot(self.W, X[i]) - self.b) >= 1 :\n",
    "                    self.W -= self.learning_rate*(2*self._lambda * self.W)\n",
    "                else:\n",
    "                    self.W -= self.learning_rate * (2 * self._lambda * self.W - np.dot(X[i], _y[i]))\n",
    "                    self.b -= self.learning_rate * _y[i]\n",
    "    \n",
    "    def predict(self, X):\n",
    "        output = np.dot(X, self.W) - self.b\n",
    "        return np.sign(output)\n",
    "\n",
    "    def score(self, y_true, y_predict):\n",
    "        return np.sum(y_true == y_predict) / len(y_true)\n",
    "\n",
    "    def visualize_svm(self, W, b):\n",
    "        fig = plt.figure()\n",
    "        ax = fig.add_subplot(1,1,1)\n",
    "        plt.scatter(X[:,0], X[:,1], marker='o',c=y)\n",
    "        #Get points\n",
    "        x1 = np.amin(X[:,0])\n",
    "        x2 = np.amax(X[:,0])\n",
    "\n",
    "        #Determine ax+b=-1\n",
    "        ya1 = (-W[0] * x1 + b - 1) / W[1] \n",
    "        ya2 = (-W[0] * x2 + b - 1) / W[1]\n",
    "\n",
    "        yb1 = (-W[0] * x1 + b) / W[1]\n",
    "        yb2 = (-W[0] * x2 + b) / W[1]\n",
    "\n",
    "        yc1 = (-W[0] * x1 + b + 1) / W[1]\n",
    "        yc2 = (-W[0] * x2 + b + 1) / W[1]\n",
    "\n",
    "        #Plot lines\n",
    "        ax.plot([x1, x2],[ya1, ya2], 'k--')\n",
    "        ax.plot([x1, x2],[yb1, yb2], 'r')\n",
    "        ax.plot([x1, x2],[yc1, yc2], 'k--')\n",
    "        #Set axe minimum and maximum\n",
    "        y_min = np.amin(X[:,1])\n",
    "        y_max = np.amax(X[:,1])\n",
    "        ax.set_ylim([y_min-3,y_max+3])\n",
    "\n",
    "        plt.show()\n",
    "    \n",
    "\n"
   ]
  },
  {
   "cell_type": "code",
   "execution_count": 32,
   "metadata": {},
   "outputs": [
    {
     "data": {
      "image/png": "[encoded data removed]",
      "text/plain": [
       "<Figure size 432x288 with 1 Axes>"
      ]
     },
     "metadata": {
      "needs_background": "light"
     },
     "output_type": "display_data"
    }
   ],
   "source": [
    "from sklearn import datasets\n",
    "X, y =  datasets.make_blobs(n_samples=50, n_features=2, centers=2, cluster_std=1.05, random_state=40)\n",
    "\n",
    "y = np.where(y == 0, -1, 1)\n",
    "svm = SVM_1()\n",
    "svm.fit(X, y)\n",
    "predictions = svm.predict(X)\n",
    "svm.visualize_svm(svm.W, svm.b)"
   ]
  },
  {
   "cell_type": "code",
   "execution_count": null,
   "metadata": {},
   "outputs": [],
   "source": []
  },
  {
   "cell_type": "code",
   "execution_count": 1,
   "metadata": {
    "scrolled": true
   },
   "outputs": [
    {
     "name": "stdout",
     "output_type": "stream",
     "text": [
      "{\"message\":\"You are not subscribed to this API.\"}\n"
     ]
    }
   ],
   "source": [
    "import http.client\n",
    "\n",
    "conn = http.client.HTTPSConnection(\"api-baseball.p.rapidapi.com\")\n",
    "\n",
    "headers = {\n",
    "    'x-rapidapi-key': \"696a1a2a23mshca4ae128e876f16p1fc30djsn4ec84e8ca279\",\n",
    "    'x-rapidapi-host': \"api-baseball.p.rapidapi.com\"\n",
    "    }\n",
    "\n",
    "conn.request(\"GET\", \"/timezone\", headers=headers)\n",
    "\n",
    "res = conn.getresponse()\n",
    "data = res.read()\n",
    "\n",
    "\n",
    "print(data.decode(\"utf-8\"))"
   ]
  },
  {
   "cell_type": "code",
   "execution_count": 28,
   "metadata": {},
   "outputs": [
    {
     "name": "stdout",
     "output_type": "stream",
     "text": [
      "[2, 4, 5, 7, 9, 2, 1, 6, 0, 1]\n",
      "(2, 3, 'Jean', 7, 0, 1)\n",
      "{1, 2, 4}\n"
     ]
    }
   ],
   "source": [
    "#Jump in list\n",
    "lis1 = [2, 4, 5, 7, 9, 2, 1, 6]\n",
    "lis2 = [0,1]\n",
    "lis1[1:5:2]\n"
   ]
  },
  {
   "cell_type": "code",
   "execution_count": 11,
   "metadata": {},
   "outputs": [
    {
     "data": {
      "text/plain": [
       "(2, 3, 'Jean', 7, 0, 1)"
      ]
     },
     "execution_count": 11,
     "metadata": {},
     "output_type": "execute_result"
    }
   ],
   "source": []
  },
  {
   "cell_type": "code",
   "execution_count": 27,
   "metadata": {},
   "outputs": [
    {
     "data": {
      "text/plain": [
       "{'a'}"
      ]
     },
     "execution_count": 27,
     "metadata": {},
     "output_type": "execute_result"
    }
   ],
   "source": []
  },
  {
   "cell_type": "code",
   "execution_count": null,
   "metadata": {},
   "outputs": [],
   "source": []
  }
 ],
 "metadata": {
  "kernelspec": {
   "display_name": "Python 3",
   "language": "python",
   "name": "python3"
  },
  "language_info": {
   "codemirror_mode": {
    "name": "ipython",
    "version": 3
   },
   "file_extension": ".py",
   "mimetype": "text/x-python",
   "name": "python",
   "nbconvert_exporter": "python",
   "pygments_lexer": "ipython3",
   "version": "3.8.3"
  }
 },
 "nbformat": 4,
 "nbformat_minor": 4
}
