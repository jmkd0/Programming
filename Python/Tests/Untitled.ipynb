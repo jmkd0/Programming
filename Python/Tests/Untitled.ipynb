{
 "cells": [
  {
   "cell_type": "code",
   "execution_count": 75,
   "metadata": {},
   "outputs": [
    {
     "name": "stdout",
     "output_type": "stream",
     "text": [
      "[0 0 0 0 0 0 0 0 0 0 0 0 0 0 0 0 0 0 0 0 0 0 0 0 0 0 0 0 0 0 0 0 0 0 0 0 0\n",
      " 0 0 0 0 0 0 0 0 0 0 0 0 0 1 1 1 1 1 1 1 1 1 1 1 1 1 1 1 1 1 1 1 1 1 1 1 1\n",
      " 1 1 1 1 1 1 1 1 1 1 1 1 1 1 1 1 1 1 1 1 1 1 1 1 1 1 2 2 2 2 2 2 2 2 2 2 2\n",
      " 2 2 2 2 2 2 2 2 2 2 2 2 2 2 2 2 2 2 2 2 2 2 2 2 2 2 2 2 2 2 2 2 2 2 2 2 2\n",
      " 2 2]\n",
      "[0 0 0 0 0 0 0 0 0 0 0 0 0 0 0 0 0 0 0 0 0 0 0 0 0 0 0 0 0 0 0 0 0 0 0 0 0\n",
      " 0 0 0 0 0 0 0 0 0 0 0 0 0 2 2 2 2 2 2 2 1 2 2 1 2 1 2 0 1 2 1 2 1 2 1 2 2\n",
      " 1 2 2 2 2 1 1 1 1 2 2 2 2 2 2 2 2 2 1 1 2 2 2 2 1 2 2 2 2 2 2 2 2 2 2 2 2\n",
      " 2 2 2 2 2 2 2 2 2 2 2 2 2 2 2 2 2 2 2 2 2 2 2 2 2 2 2 2 2 2 2 2 2 2 2 2 2\n",
      " 2 2]\n",
      "0.7666666666666667\n"
     ]
    }
   ],
   "source": [
    "import numpy as np\n",
    "import pandas as pd\n",
    "import seaborn as sns\n",
    "from scipy.stats import mode\n",
    "from itertools import combinations\n",
    "from sklearn import svm\n",
    "import matplotlib.pyplot as plt\n",
    "\n",
    "class SVMBase:\n",
    "    def __init__(self, learning_rate=0.001, _lambda=0.01, nb_epoch=1000):\n",
    "        self.learning_rate = learning_rate\n",
    "        self._lambda = _lambda\n",
    "        self.nb_epoch = nb_epoch\n",
    "        self.W = None\n",
    "        self.b = None\n",
    "    def fit_base(self, X, y):\n",
    "        nb_rows, nb_feature = X.shape\n",
    "        #Gradiant descent\n",
    "        self.W = np.zeros(nb_feature)\n",
    "        self.b = 0\n",
    "\n",
    "        for _ in range(self.nb_epoch):\n",
    "            for i in range(nb_rows):\n",
    "                if y[i]*(np.dot(self.W, X[i]) - self.b) >= 1 :\n",
    "                    self.W -= self.learning_rate*(2*self._lambda * self.W)\n",
    "                else:\n",
    "                    self.W -= self.learning_rate * (2 * self._lambda * self.W - np.dot(X[i], y[i]))\n",
    "                    self.b -= self.learning_rate * y[i]\n",
    "    \n",
    "    def predict_base(self, X):\n",
    "        output = np.dot(X, self.W) - self.b\n",
    "        y = np.sign(output)\n",
    "        return np.where(y == 1, 1, 0)\n",
    "    \n",
    "    def decision_base(self, X):\n",
    "        return np.dot(X, self.W) - self.b\n",
    "    \n",
    "class SVM(SVMBase):\n",
    "    def __init__(self, learning_rate=0.001, _lambda=0.01, nb_epoch=1000, decision='ova'):\n",
    "        self.learning_rate = learning_rate\n",
    "        self._lambda = _lambda\n",
    "        self.nb_epoch = nb_epoch\n",
    "        self.nb_label = None\n",
    "        self.decision = decision\n",
    "        self.classifiers = []\n",
    "        self.class_pairs = []\n",
    "        super().__init__(learning_rate=learning_rate, _lambda=_lambda, nb_epoch=nb_epoch)\n",
    "        \n",
    "    def fit(self, X, y):\n",
    "        X = np.array(X)\n",
    "        y = np.array(y)\n",
    "        labels = np.unique(y)\n",
    "        self.nb_label = len(labels)\n",
    "        if self.nb_label == 2:\n",
    "            y = np.where(y == 0, -1, 1)\n",
    "            self.fit_base(X, y)\n",
    "        elif self.decision == 'ova':\n",
    "            y_list = [np.where(y == label, 1, -1) for label in labels]\n",
    "            for y_i in y_list:\n",
    "                svm1 = SVMBase()\n",
    "                svm1.fit_base(X, y_i)\n",
    "                self.classifiers.append(svm1)\n",
    "        elif self.decision == 'ovo':\n",
    "            print(X.shape)\n",
    "            self.class_pairs = list(combinations(set(y), 2))\n",
    "            for class_pair in self.class_pairs:\n",
    "                indexs = np.where((y == class_pair[0]) | (y == class_pair[1]))\n",
    "                y_i = np.where(y[indexs] == class_pair[0], 1, -1)\n",
    "                clf = SVMBase()\n",
    "                clf.fit_base(X[indexs], y_i)\n",
    "                self.classifiers.append(clf)\n",
    "                \n",
    "    def predict(self, X):\n",
    "        X = np.array(X)\n",
    "        if self.nb_label == 2:\n",
    "            return self.predict_base(X)\n",
    "        elif self.decision == 'ova':\n",
    "            return self.predict_multiclass_ova(X)\n",
    "        elif self.decision == 'ovo':\n",
    "            return self.predict_multiclass_ovo(X)\n",
    "        \n",
    "    def predict_multiclass_ova(self, X):\n",
    "        predictions = np.zeros((X.shape[0], len(self.classifiers)))\n",
    "        for idx, clf in enumerate(self.classifiers):\n",
    "            predictions[:, idx] = clf.decision_base(X)\n",
    "        # return the argmax of the decision function as suggested by Vapnik.\n",
    "        return np.argmax(predictions, axis=1)\n",
    "\n",
    "    def predict_multiclass_ovo(self, X):\n",
    "        predictions = np.zeros((X.shape[0], len(self.classifiers)))\n",
    "        for idx, clf in enumerate(self.classifiers):\n",
    "            class_pair = self.class_pairs[idx]\n",
    "            prediction = clf.predict_base(X)\n",
    "            predictions[:, idx] = np.where(prediction == 1, class_pair[0], class_pair[1])\n",
    "        return mode(predictions, axis=1)[0].ravel().astype(int)\n",
    "    \n",
    "    def score(self, y_true, y_predict):\n",
    "        return np.sum(y_true == y_predict) / len(y_true)\n",
    " \n",
    "    def plot_contours(self, X, y):\n",
    "        X = np.array(X)\n",
    "        y = np.array(y)\n",
    "        # plot the resulting classifier\n",
    "        h = 0.01\n",
    "        x_min, x_max = X[:, 0].min() - 1, X[:, 0].max() + 1\n",
    "        y_min, y_max = X[:, 1].min() - 1, X[:, 1].max() + 1\n",
    "\n",
    "        xx, yy = np.meshgrid(np.arange(x_min, x_max, h), np.arange(y_min, y_max, h))\n",
    "\n",
    "        points = np.c_[xx.ravel(), yy.ravel()]\n",
    "        \n",
    "        if self.nb_label == 2:\n",
    "            Z = self.predict_base(points)\n",
    "        elif self.decision == 'ova':\n",
    "            Z = self.predict_multiclass_ova(points)\n",
    "        elif self.decision == 'ovo':\n",
    "            Z = self.predict_multiclass_ovo(points)\n",
    "            \n",
    "        Z = Z.reshape(xx.shape)\n",
    "        plt.contourf(xx, yy, Z, cmap=plt.cm.coolwarm, alpha=0.8)\n",
    "\n",
    "        # plt the points\n",
    "        plt.scatter(X[:, 0], X[:, 1], c=y, s=30, cmap=plt.cm.Paired)\n",
    "        plt.show()\n",
    "        \n",
    "        \n",
    "from sklearn import datasets\n",
    "#X, y =  datasets.make_blobs(n_samples=50, n_features=2, centers=2, cluster_std=1.05, random_state=40)\n",
    "\n",
    "iris = datasets.load_iris()\n",
    "data = pd.DataFrame(iris.data, columns=iris.feature_names)\n",
    "data[\"label\"] = iris.target\n",
    "X, y  = data.drop(\"label\", axis=1), data[\"label\"].values\n",
    "\n",
    "\n",
    "\n",
    "svm = SVM()\n",
    "svm.fit(X, y)\n",
    "predictions = svm.predict(X)\n",
    "score = modele.score(y, predictions)\n",
    "#modele.plot_contours(X, y)\n",
    "print(y)\n",
    "print(predictions)\n",
    "print(score)"
   ]
  },
  {
   "cell_type": "code",
   "execution_count": 59,
   "metadata": {},
   "outputs": [],
   "source": [
    "def load_X(k):\n",
    "    if k == 0:\n",
    "        return np.array([[4, 2], [4, 3], [5, 1], [5, 2],\n",
    "                     [5, 3], [6, 1], [6, 2], [9, 4],\n",
    "                     [9, 7], [10, 5], [10, 6], [11, 6]])\n",
    "    else:\n",
    "        return np.array([[1, 6], [1, 7], [2, 5], [2, 8],\n",
    "                     [4, 2], [4, 3], [5, 1], [5, 2],\n",
    "                     [5, 3], [6, 1], [6, 2], [9, 4],\n",
    "                     [9, 7], [10, 5], [10, 6], [11, 6],\n",
    "                     [5, 9], [5, 10], [5, 11], [6, 9],\n",
    "                     [6, 10], [7, 10], [8, 11]])\n",
    "\n",
    "\n",
    "def load_y(k):\n",
    "    if k  == 0:\n",
    "        return np.array([1,1,1,1,1,1,1,0,0,0,0,0])\n",
    "    else:\n",
    "        return np.array([1, 1, 1, 1,\n",
    "                     2, 2, 2, 2, 2, 2, 2,\n",
    "                     3, 3, 3, 3, 3,\n",
    "                     4, 4, 4, 4, 4, 4, 4])\n",
    "\n",
    "X = load_X(0)\n",
    "y = load_y(0)"
   ]
  },
  {
   "cell_type": "code",
   "execution_count": 60,
   "metadata": {},
   "outputs": [
    {
     "data": {
      "image/png": "[encoded data removed]",
      "text/plain": [
       "<Figure size 432x288 with 1 Axes>"
      ]
     },
     "metadata": {
      "needs_background": "light"
     },
     "output_type": "display_data"
    },
    {
     "name": "stdout",
     "output_type": "stream",
     "text": [
      "[1 1 0 1 0 0 1 0 1 0 1 1 0 1 1 1 1 1 1 1 0 0 0 0 0 0 0 0 0 0 1 1 0 0 1 0 1\n",
      " 0 1 1 0 0 1 1 1 0 0 1 1 0]\n",
      "[1 1 0 1 0 0 1 0 1 0 1 1 0 1 1 1 1 1 1 1 0 0 0 0 0 0 0 0 0 0 1 1 0 0 1 0 1\n",
      " 0 1 1 0 0 1 1 1 0 0 1 1 0]\n",
      "1.0\n"
     ]
    }
   ],
   "source": [
    "from sklearn import datasets\n",
    "X, y =  datasets.make_blobs(n_samples=50, n_features=2, centers=2, cluster_std=1.05, random_state=40)\n",
    "\n",
    "\n",
    "svm = SVM()\n",
    "svm.fit(X, y)\n",
    "predictions = svm.predict(X)\n",
    "score = modele.score(y, predictions)\n",
    "modele.plot_contours(X, y)\n",
    "print(y)\n",
    "print(predictions)\n",
    "print(score)"
   ]
  },
  {
   "cell_type": "code",
   "execution_count": 64,
   "metadata": {},
   "outputs": [
    {
     "data": {
      "text/plain": [
       "2"
      ]
     },
     "execution_count": 64,
     "metadata": {},
     "output_type": "execute_result"
    }
   ],
   "source": [
    "x, y = 2, 4\n",
    "x"
   ]
  },
  {
   "cell_type": "code",
   "execution_count": null,
   "metadata": {},
   "outputs": [],
   "source": []
  },
  {
   "cell_type": "code",
   "execution_count": 61,
   "metadata": {},
   "outputs": [
    {
     "data": {
      "image/png": "[encoded data removed]",
      "text/plain": [
       "<Figure size 432x288 with 1 Axes>"
      ]
     },
     "metadata": {
      "needs_background": "light"
     },
     "output_type": "display_data"
    },
    {
     "name": "stdout",
     "output_type": "stream",
     "text": [
      "[1 1 0 1 0 0 1 0 1 0 1 1 0 1 1 1 1 1 1 1 0 0 0 0 0 0 0 0 0 0 1 1 0 0 1 0 1\n",
      " 0 1 1 0 0 1 1 1 0 0 1 1 0]\n",
      "[1 1 0 1 0 0 1 0 1 0 1 1 0 1 1 1 1 1 1 1 0 0 0 0 0 0 0 0 0 0 1 1 0 0 1 0 1\n",
      " 0 1 1 0 0 1 1 1 0 0 1 1 0]\n",
      "1.0\n"
     ]
    }
   ],
   "source": [
    "modele = SVM()\n",
    "\n",
    "modele.fit(X, y)\n",
    "predictions = modele.predict(X)\n",
    "score = modele.score(y, predictions)\n",
    "modele.plot_contours(X, y)\n",
    "print(y)\n",
    "print(predictions)\n",
    "print(score)"
   ]
  },
  {
   "cell_type": "code",
   "execution_count": null,
   "metadata": {},
   "outputs": [],
   "source": [
    "from sklearn import svm\n",
    "def SVM_ScikitLearn(X, y, kernel='linear'):\n",
    "    def plot_contours(X, y, svm):\n",
    "        # plot the resulting classifier\n",
    "        h = 0.01\n",
    "        x_min, x_max = X[:, 0].min() - 1, X[:, 0].max() + 1\n",
    "        y_min, y_max = X[:, 1].min() - 1, X[:, 1].max() + 1\n",
    "\n",
    "        xx, yy = np.meshgrid(np.arange(x_min, x_max, h), np.arange(y_min, y_max, h))\n",
    "\n",
    "        points = np.c_[xx.ravel(), yy.ravel()]\n",
    "\n",
    "        Z = svm.predict(points)\n",
    "        Z = Z.reshape(xx.shape)\n",
    "        plt.contourf(xx, yy, Z, cmap=plt.cm.coolwarm, alpha=0.8)\n",
    "\n",
    "        # plt the points\n",
    "        #plt.scatter(X[:, 0], X[:, 1], c=y, s=40, cmap=plt.cm.coolwarm)\n",
    "        plt.scatter(X[:, 0], X[:, 1], c=y, s=30, cmap=plt.cm.Paired)\n",
    "        plt.show()\n",
    "\n",
    "    def plot_contour(X, y, classifiers):\n",
    "        # plot the resulting classifier\n",
    "        h = 0.01\n",
    "        x_min, x_max = X[:, 0].min() - 1, X[:, 0].max() + 1\n",
    "        y_min, y_max = X[:, 1].min() - 1, X[:, 1].max() + 1\n",
    "\n",
    "        xx, yy = np.meshgrid(np.arange(x_min, x_max, h), np.arange(y_min, y_max, h))\n",
    "\n",
    "        points = np.c_[xx.ravel(), yy.ravel()]\n",
    "\n",
    "        Z = predict_class(points, classifiers)\n",
    "        Z = Z.reshape(xx.shape)\n",
    "        plt.contourf(xx, yy, Z, cmap=plt.cm.coolwarm, alpha=0.8)\n",
    "\n",
    "        # plt the points\n",
    "        #plt.scatter(X[:, 0], X[:, 1], c=y, s=40, cmap=plt.cm.coolwarm)\n",
    "        plt.scatter(X[:, 0], X[:, 1], c=y, s=30, cmap=plt.cm.Paired)\n",
    "        plt.show()\n",
    "    def predict_class(X, classifiers):\n",
    "        predictions = np.zeros((X.shape[0], len(classifiers)))\n",
    "        for idx, clf in enumerate(classifiers):\n",
    "            predictions[:, idx] = clf.decision_function(X)\n",
    "        # return the argmax of the decision function as suggested by Vapnik.\n",
    "        return np.argmax(predictions, axis=1) + 1\n",
    "            \n",
    "    labels = np.unique(y)\n",
    "    y_list = [np.where(y == label, 1, -1) for label in labels]\n",
    "    classifiers = []\n",
    "    for y_i in y_list:\n",
    "        clf = svm.SVC(kernel='linear', C=1000)\n",
    "        clf.fit(X, y_i)\n",
    "        classifiers.append(clf)\n",
    "        plot_contours(X, y, clf)\n",
    "    plot_contour(X, y, classifiers)"
   ]
  },
  {
   "cell_type": "code",
   "execution_count": null,
   "metadata": {},
   "outputs": [],
   "source": [
    "SVM_ScikitLearn(X, y)"
   ]
  },
  {
   "cell_type": "code",
   "execution_count": null,
   "metadata": {},
   "outputs": [],
   "source": [
    "X = load_X(1)\n",
    "y = load_y(1)\n",
    "# Create datasets.\n",
    "def predict_classovo(X, classifiers, class_pairs):\n",
    "    predictions = np.zeros((X.shape[0], len(classifiers)))\n",
    "    for idx, clf in enumerate(classifiers):\n",
    "        class_pair = class_pairs[idx]\n",
    "        prediction = clf.predict(X)\n",
    "        predictions[:, idx] = np.where(prediction == 1,\n",
    "\n",
    "                                       class_pair[0], class_pair[1])\n",
    "    return mode(predictions, axis=1)[0].ravel().astype(int)\n",
    "\n",
    "def plot_contours(X, y, classifiers, class_pairs):\n",
    "    # plot the resulting classifier\n",
    "    h = 0.01\n",
    "    x_min, x_max = X[:, 0].min() - 1, X[:, 0].max() + 1\n",
    "    y_min, y_max = X[:, 1].min() - 1, X[:, 1].max() + 1\n",
    "\n",
    "    xx, yy = np.meshgrid(np.arange(x_min, x_max, h), np.arange(y_min, y_max, h))\n",
    "\n",
    "    points = np.c_[xx.ravel(), yy.ravel()]\n",
    "\n",
    "    Z = predict_classovo(points, classifiers, class_pairs)\n",
    "    Z = Z.reshape(xx.shape)\n",
    "    plt.contourf(xx, yy, Z, cmap=plt.cm.coolwarm, alpha=0.8)\n",
    "\n",
    "    # plt the points\n",
    "    plt.scatter(X[:, 0], X[:, 1], c=y, s=30, cmap=plt.cm.Paired)\n",
    "    plt.show()"
   ]
  },
  {
   "cell_type": "code",
   "execution_count": null,
   "metadata": {},
   "outputs": [],
   "source": [
    "class_pairs = list(combinations(set(y), 2))\n",
    "classifiers= []\n",
    "for class_pair in class_pairs:\n",
    "    indexs = np.where((y == class_pair[0]) | (y == class_pair[1]))\n",
    "    y_i = np.where(y[indexs] == class_pair[0], 1, -1)\n",
    "    clf = svm.SVC(kernel='linear', C=1000)\n",
    "    clf.fit(X[indexs], y_i)\n",
    "    classifiers.append(clf)\n",
    "plot_contours(X, y, classifiers, class_pairs)"
   ]
  },
  {
   "cell_type": "code",
   "execution_count": 13,
   "metadata": {},
   "outputs": [
    {
     "name": "stdout",
     "output_type": "stream",
     "text": [
      "333333\n"
     ]
    }
   ],
   "source": [
    "a=3\n",
    "if a == 1:\n",
    "    print(\"11111\")\n",
    "elif a == 2:\n",
    "    print(\"222222\")\n",
    "elif a == 3:\n",
    "    print(\"333333\")"
   ]
  },
  {
   "cell_type": "code",
   "execution_count": null,
   "metadata": {},
   "outputs": [],
   "source": []
  },
  {
   "cell_type": "code",
   "execution_count": null,
   "metadata": {},
   "outputs": [],
   "source": []
  },
  {
   "cell_type": "code",
   "execution_count": null,
   "metadata": {},
   "outputs": [],
   "source": []
  },
  {
   "cell_type": "code",
   "execution_count": null,
   "metadata": {},
   "outputs": [],
   "source": []
  },
  {
   "cell_type": "code",
   "execution_count": null,
   "metadata": {},
   "outputs": [],
   "source": []
  },
  {
   "cell_type": "code",
   "execution_count": null,
   "metadata": {},
   "outputs": [],
   "source": []
  },
  {
   "cell_type": "code",
   "execution_count": null,
   "metadata": {},
   "outputs": [],
   "source": []
  },
  {
   "cell_type": "code",
   "execution_count": null,
   "metadata": {},
   "outputs": [],
   "source": []
  }
 ],
 "metadata": {
  "kernelspec": {
   "display_name": "Python [conda env:anaconda]",
   "language": "python",
   "name": "conda-env-anaconda-py"
  },
  "language_info": {
   "codemirror_mode": {
    "name": "ipython",
    "version": 3
   },
   "file_extension": ".py",
   "mimetype": "text/x-python",
   "name": "python",
   "nbconvert_exporter": "python",
   "pygments_lexer": "ipython3",
   "version": "3.7.9"
  }
 },
 "nbformat": 4,
 "nbformat_minor": 4
}
